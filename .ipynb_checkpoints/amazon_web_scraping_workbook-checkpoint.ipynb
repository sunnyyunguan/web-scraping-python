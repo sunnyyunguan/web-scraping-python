{
 "cells": [
  {
   "cell_type": "code",
   "execution_count": 1,
   "id": "1ba62ef6",
   "metadata": {},
   "outputs": [],
   "source": [
    "from bs4 import BeautifulSoup\n",
    "import requests\n",
    "import pandas as pd"
   ]
  },
  {
   "cell_type": "code",
   "execution_count": 2,
   "id": "84bc42a4",
   "metadata": {},
   "outputs": [],
   "source": [
    "URL = \"https://www.amazon.com/s?k=hand+bags&rh=n%3A7141123011%2Cp_89%3AFossil&dc&ds=v1%3Aw5ZdMJJeUUMNrP3PZsYx%2FdzaVyD2ArRTS7hLCXtpaGQ&crid=23XIRL07U9CLD&qid=1671547150&rnid=2528832011&sprefix=hand+bags%2Caps%2C127&ref=sr_nr_p_89_2\""
   ]
  },
  {
   "cell_type": "code",
   "execution_count": 3,
   "id": "41d06b5a",
   "metadata": {},
   "outputs": [],
   "source": [
    "# Headers for request\n",
    "HEADERS = ({'User-Agent':'Mozilla/5.0 (Windows NT 10.0; Win64; x64) AppleWebKit/537.36 (KHTML, like Gecko) Chrome/108.0.0.0 Safari/537.36', 'Accept-Language': 'en-US, en;q=0.5'}) #add your user agent "
   ]
  },
  {
   "cell_type": "code",
   "execution_count": 4,
   "id": "942f42fc",
   "metadata": {},
   "outputs": [],
   "source": [
    "# HTTP Request\n",
    "webpage = requests.get(URL, headers=HEADERS)"
   ]
  },
  {
   "cell_type": "code",
   "execution_count": 5,
   "id": "91ff09d5-d217-471e-ab65-4ae46bde9ac8",
   "metadata": {},
   "outputs": [
    {
     "data": {
      "text/plain": [
       "<Response [200]>"
      ]
     },
     "execution_count": 5,
     "metadata": {},
     "output_type": "execute_result"
    }
   ],
   "source": [
    "webpage"
   ]
  },
  {
   "cell_type": "code",
   "execution_count": 6,
   "id": "70d1d923",
   "metadata": {},
   "outputs": [
    {
     "data": {
      "text/plain": [
       "bytes"
      ]
     },
     "execution_count": 6,
     "metadata": {},
     "output_type": "execute_result"
    }
   ],
   "source": [
    "type(webpage.content)"
   ]
  },
  {
   "cell_type": "code",
   "execution_count": 7,
   "id": "d792ee49",
   "metadata": {},
   "outputs": [],
   "source": [
    "# Soup Object containiang all data\n",
    "soup = BeautifulSoup(webpage.content, \"html.parser\")"
   ]
  },
  {
   "cell_type": "code",
   "execution_count": 8,
   "id": "d4d6f6c4",
   "metadata": {},
   "outputs": [],
   "source": [
    "# Fetch links as List of Tag Objects\n",
    "links = soup.find_all(\"a\", attrs={'class':'a-link-normal s-underline-text s-underline-link-text s-link-style a-text-normal'})"
   ]
  },
  {
   "cell_type": "code",
   "execution_count": 9,
   "id": "74ef9f46",
   "metadata": {},
   "outputs": [],
   "source": [
    "link = links[0].get('href')"
   ]
  },
  {
   "cell_type": "code",
   "execution_count": 10,
   "id": "15abaa9f-269d-4f8c-91cb-35af62b757a1",
   "metadata": {},
   "outputs": [
    {
     "data": {
      "text/plain": [
       "'/Fossil-ZB7990080-Satchel-Black/dp/B081HRBJDZ/ref=sr_1_1?crid=23XIRL07U9CLD&keywords=hand+bags&qid=1671720486&refinements=p_89%3AFossil&rnid=2528832011&s=apparel&sprefix=hand+bags%2Caps%2C127&sr=1-1'"
      ]
     },
     "execution_count": 10,
     "metadata": {},
     "output_type": "execute_result"
    }
   ],
   "source": [
    "link"
   ]
  },
  {
   "cell_type": "code",
   "execution_count": 11,
   "id": "2ab5e21f",
   "metadata": {},
   "outputs": [],
   "source": [
    "product_list = \"https://amazon.com\" + link"
   ]
  },
  {
   "cell_type": "code",
   "execution_count": 12,
   "id": "81d43c5d",
   "metadata": {},
   "outputs": [
    {
     "data": {
      "text/plain": [
       "'https://amazon.com/Fossil-ZB7990080-Satchel-Black/dp/B081HRBJDZ/ref=sr_1_1?crid=23XIRL07U9CLD&keywords=hand+bags&qid=1671720486&refinements=p_89%3AFossil&rnid=2528832011&s=apparel&sprefix=hand+bags%2Caps%2C127&sr=1-1'"
      ]
     },
     "execution_count": 12,
     "metadata": {},
     "output_type": "execute_result"
    }
   ],
   "source": [
    "product_list"
   ]
  },
  {
   "cell_type": "code",
   "execution_count": 13,
   "id": "47af27fb",
   "metadata": {},
   "outputs": [],
   "source": [
    "new_webpage = requests.get(product_list, headers=HEADERS)"
   ]
  },
  {
   "cell_type": "code",
   "execution_count": 18,
   "id": "43b0cb13",
   "metadata": {},
   "outputs": [],
   "source": [
    "# Soup Object containiang all data\n",
    "new_soup = BeautifulSoup(new_webpage.content, \"html.parser\")"
   ]
  },
  {
   "cell_type": "code",
   "execution_count": 30,
   "id": "12c472d2",
   "metadata": {},
   "outputs": [
    {
     "data": {
      "text/plain": [
       "\"Fossil Women's Rachel Satchel Purse Handbag\""
      ]
     },
     "execution_count": 30,
     "metadata": {},
     "output_type": "execute_result"
    }
   ],
   "source": [
    "new_soup.find(\"span\", attrs={\"id\":'productTitle'}).text.strip()"
   ]
  },
  {
   "cell_type": "code",
   "execution_count": 36,
   "id": "9b7da0be",
   "metadata": {},
   "outputs": [
    {
     "data": {
      "text/plain": [
       "'$90.00'"
      ]
     },
     "execution_count": 36,
     "metadata": {},
     "output_type": "execute_result"
    }
   ],
   "source": [
    "new_soup.find(\"div\", attrs={\"class\":'a-section a-spacing-micro'}).find(\"span\", attrs={\"class\": \"a-price aok-align-center\"}).find(\"span\", attrs={\"class\": \"a-offscreen\"}).text"
   ]
  },
  {
   "cell_type": "code",
   "execution_count": 41,
   "id": "87ed26ac-49a2-4aa6-ba6e-7151f63ee038",
   "metadata": {},
   "outputs": [
    {
     "data": {
      "text/plain": [
       "'-40%'"
      ]
     },
     "execution_count": 41,
     "metadata": {},
     "output_type": "execute_result"
    }
   ],
   "source": [
    "new_soup.find(\"div\", attrs={\"class\",'a-section a-spacing-none aok-align-center'}).find(\"span\", attrs={\"class\":'a-size-large a-color-price savingPriceOverride aok-align-center reinventPriceSavingsPercentageMargin savingsPercentage'}).text"
   ]
  },
  {
   "cell_type": "code",
   "execution_count": 61,
   "id": "b34bb56c-d235-47c7-a6eb-63cda223d907",
   "metadata": {},
   "outputs": [
    {
     "data": {
      "text/plain": [
       "'$150.00'"
      ]
     },
     "execution_count": 61,
     "metadata": {},
     "output_type": "execute_result"
    }
   ],
   "source": [
    "new_soup.find(\"div\", attrs={\"class\",'a-section a-spacing-small aok-align-center'}).find(\"span\", attrs={\"class\",'a-size-small a-color-secondary aok-align-center basisPrice'}).find(\"span\", attrs={\"class\", 'a-offscreen'}).text"
   ]
  },
  {
   "cell_type": "code",
   "execution_count": 62,
   "id": "a6ffef0a",
   "metadata": {},
   "outputs": [
    {
     "data": {
      "text/plain": [
       "'4.6 out of 5 stars'"
      ]
     },
     "execution_count": 62,
     "metadata": {},
     "output_type": "execute_result"
    }
   ],
   "source": [
    "new_soup.find(\"span\", attrs={\"class\":'a-icon-alt'}).text"
   ]
  },
  {
   "cell_type": "code",
   "execution_count": null,
   "id": "29ac3c9f",
   "metadata": {},
   "outputs": [],
   "source": []
  }
 ],
 "metadata": {
  "kernelspec": {
   "display_name": "Python 3 (ipykernel)",
   "language": "python",
   "name": "python3"
  },
  "language_info": {
   "codemirror_mode": {
    "name": "ipython",
    "version": 3
   },
   "file_extension": ".py",
   "mimetype": "text/x-python",
   "name": "python",
   "nbconvert_exporter": "python",
   "pygments_lexer": "ipython3",
   "version": "3.9.13"
  }
 },
 "nbformat": 4,
 "nbformat_minor": 5
}
