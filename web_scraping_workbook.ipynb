{
 "cells": [
  {
   "cell_type": "code",
   "execution_count": 24,
   "id": "1ba62ef6",
   "metadata": {},
   "outputs": [],
   "source": [
    "from bs4 import BeautifulSoup\n",
    "import requests\n",
    "import pandas as pd"
   ]
  },
  {
   "cell_type": "code",
   "execution_count": 25,
   "id": "84bc42a4",
   "metadata": {},
   "outputs": [],
   "source": [
    "URL = \"https://www.amazon.com/s?k=hand+bags&rh=n%3A7141123011%2Cp_89%3AFossil&dc&ds=v1%3Aw5ZdMJJeUUMNrP3PZsYx%2FdzaVyD2ArRTS7hLCXtpaGQ&crid=23XIRL07U9CLD&qid=1671547150&rnid=2528832011&sprefix=hand+bags%2Caps%2C127&ref=sr_nr_p_89_2\""
   ]
  },
  {
   "cell_type": "code",
   "execution_count": 26,
   "id": "41d06b5a",
   "metadata": {},
   "outputs": [],
   "source": [
    "# Headers for request\n",
    "HEADERS = ({'User-Agent':'Mozilla/5.0 (Windows NT 10.0; Win64; x64) AppleWebKit/537.36 (KHTML, like Gecko) Chrome/108.0.0.0 Safari/537.36', 'Accept-Language': 'en-US, en;q=0.5'}) #add your user agent "
   ]
  },
  {
   "cell_type": "code",
   "execution_count": 27,
   "id": "942f42fc",
   "metadata": {},
   "outputs": [],
   "source": [
    "# HTTP Request\n",
    "webpage = requests.get(URL, headers=HEADERS)"
   ]
  },
  {
   "cell_type": "code",
   "execution_count": 28,
   "id": "91ff09d5-d217-471e-ab65-4ae46bde9ac8",
   "metadata": {},
   "outputs": [
    {
     "data": {
      "text/plain": [
       "<Response [200]>"
      ]
     },
     "execution_count": 28,
     "metadata": {},
     "output_type": "execute_result"
    }
   ],
   "source": [
    "webpage"
   ]
  },
  {
   "cell_type": "code",
   "execution_count": 29,
   "id": "70d1d923",
   "metadata": {},
   "outputs": [
    {
     "data": {
      "text/plain": [
       "bytes"
      ]
     },
     "execution_count": 29,
     "metadata": {},
     "output_type": "execute_result"
    }
   ],
   "source": [
    "type(webpage.content)"
   ]
  },
  {
   "cell_type": "code",
   "execution_count": 30,
   "id": "d792ee49",
   "metadata": {},
   "outputs": [],
   "source": [
    "# Soup Object containiang all data\n",
    "soup = BeautifulSoup(webpage.content, \"html.parser\")"
   ]
  },
  {
   "cell_type": "code",
   "execution_count": 31,
   "id": "d4d6f6c4",
   "metadata": {},
   "outputs": [],
   "source": [
    "# Fetch links as List of Tag Objects\n",
    "links = soup.find_all(\"a\", attrs={'class':'a-link-normal s-underline-text s-underline-link-text s-link-style a-text-normal'})"
   ]
  },
  {
   "cell_type": "code",
   "execution_count": 32,
   "id": "74ef9f46",
   "metadata": {},
   "outputs": [],
   "source": [
    "link = links[0].get('href')"
   ]
  },
  {
   "cell_type": "code",
   "execution_count": 33,
   "id": "15abaa9f-269d-4f8c-91cb-35af62b757a1",
   "metadata": {},
   "outputs": [
    {
     "data": {
      "text/plain": [
       "'/Fossil-ZB7938213-Shopper-Brandy/dp/B081HP6DW1/ref=sr_1_1?crid=23XIRL07U9CLD&keywords=hand+bags&qid=1673314010&refinements=p_89%3AFossil&rnid=2528832011&s=apparel&sprefix=hand+bags%2Caps%2C127&sr=1-1'"
      ]
     },
     "execution_count": 33,
     "metadata": {},
     "output_type": "execute_result"
    }
   ],
   "source": [
    "link"
   ]
  },
  {
   "cell_type": "code",
   "execution_count": 34,
   "id": "2ab5e21f",
   "metadata": {},
   "outputs": [],
   "source": [
    "product_list = \"https://amazon.com\" + link"
   ]
  },
  {
   "cell_type": "code",
   "execution_count": 35,
   "id": "81d43c5d",
   "metadata": {},
   "outputs": [
    {
     "data": {
      "text/plain": [
       "'https://amazon.com/Fossil-ZB7938213-Shopper-Brandy/dp/B081HP6DW1/ref=sr_1_1?crid=23XIRL07U9CLD&keywords=hand+bags&qid=1673314010&refinements=p_89%3AFossil&rnid=2528832011&s=apparel&sprefix=hand+bags%2Caps%2C127&sr=1-1'"
      ]
     },
     "execution_count": 35,
     "metadata": {},
     "output_type": "execute_result"
    }
   ],
   "source": [
    "product_list"
   ]
  },
  {
   "cell_type": "code",
   "execution_count": 36,
   "id": "47af27fb",
   "metadata": {},
   "outputs": [],
   "source": [
    "new_webpage = requests.get(product_list, headers=HEADERS)"
   ]
  },
  {
   "cell_type": "code",
   "execution_count": 37,
   "id": "43b0cb13",
   "metadata": {},
   "outputs": [],
   "source": [
    "# Soup Object containiang all data\n",
    "new_soup = BeautifulSoup(new_webpage.content, \"html.parser\")"
   ]
  },
  {
   "cell_type": "code",
   "execution_count": 38,
   "id": "12c472d2",
   "metadata": {},
   "outputs": [
    {
     "data": {
      "text/plain": [
       "\"Fossil Women's Carmen Leather Shopper Tote Purse Handbag\""
      ]
     },
     "execution_count": 38,
     "metadata": {},
     "output_type": "execute_result"
    }
   ],
   "source": [
    "new_soup.find(\"span\", attrs={\"id\":'productTitle'}).text.strip()"
   ]
  },
  {
   "cell_type": "code",
   "execution_count": 39,
   "id": "9b7da0be",
   "metadata": {},
   "outputs": [
    {
     "data": {
      "text/plain": [
       "'$213.64'"
      ]
     },
     "execution_count": 39,
     "metadata": {},
     "output_type": "execute_result"
    }
   ],
   "source": [
    "new_soup.find(\"div\", attrs={\"class\":'a-section a-spacing-micro'}).find(\"span\", attrs={\"class\": \"a-price aok-align-center\"}).find(\"span\", attrs={\"class\": \"a-offscreen\"}).text"
   ]
  },
  {
   "cell_type": "code",
   "execution_count": 40,
   "id": "3281c9a1",
   "metadata": {},
   "outputs": [
    {
     "data": {
      "text/plain": [
       "'$230.00'"
      ]
     },
     "execution_count": 40,
     "metadata": {},
     "output_type": "execute_result"
    }
   ],
   "source": [
    "new_soup.find(\"div\", attrs={\"class\",'a-section a-spacing-small aok-align-center'}).find(\"span\", attrs={\"class\",'a-size-small a-color-secondary aok-align-center basisPrice'}).find(\"span\", attrs={\"class\", 'a-offscreen'}).text"
   ]
  },
  {
   "cell_type": "code",
   "execution_count": 41,
   "id": "87ed26ac-49a2-4aa6-ba6e-7151f63ee038",
   "metadata": {},
   "outputs": [
    {
     "data": {
      "text/plain": [
       "'-7%'"
      ]
     },
     "execution_count": 41,
     "metadata": {},
     "output_type": "execute_result"
    }
   ],
   "source": [
    "new_soup.find(\"div\", attrs={\"class\",'a-section a-spacing-none aok-align-center'}).find(\"span\", attrs={\"class\":'a-size-large a-color-price savingPriceOverride aok-align-center reinventPriceSavingsPercentageMargin savingsPercentage'}).text"
   ]
  },
  {
   "cell_type": "code",
   "execution_count": 19,
   "id": "a6ffef0a",
   "metadata": {},
   "outputs": [
    {
     "data": {
      "text/plain": [
       "'4.4 out of 5 stars'"
      ]
     },
     "execution_count": 19,
     "metadata": {},
     "output_type": "execute_result"
    }
   ],
   "source": [
    "new_soup.find(\"span\", attrs={\"class\":'a-icon-alt'}).text"
   ]
  },
  {
   "cell_type": "code",
   "execution_count": 20,
   "id": "29ac3c9f",
   "metadata": {},
   "outputs": [
    {
     "data": {
      "text/plain": [
       "'4.4 out of 5 stars'"
      ]
     },
     "execution_count": 20,
     "metadata": {},
     "output_type": "execute_result"
    }
   ],
   "source": [
    "new_soup.find(\"i\", attrs={'class':'a-icon a-icon-star a-star-4-5'}).string.strip()"
   ]
  },
  {
   "cell_type": "code",
   "execution_count": 21,
   "id": "9d89ad41",
   "metadata": {},
   "outputs": [
    {
     "data": {
      "text/plain": [
       "'223 ratings'"
      ]
     },
     "execution_count": 21,
     "metadata": {},
     "output_type": "execute_result"
    }
   ],
   "source": [
    "new_soup.find(\"span\", attrs={'id':'acrCustomerReviewText'}).string.strip()"
   ]
  },
  {
   "cell_type": "code",
   "execution_count": 22,
   "id": "fcb9167d",
   "metadata": {},
   "outputs": [
    {
     "data": {
      "text/plain": [
       "'In Stock.'"
      ]
     },
     "execution_count": 22,
     "metadata": {},
     "output_type": "execute_result"
    }
   ],
   "source": [
    "new_soup.find(\"div\", attrs={'id':'availability'}).text.strip()"
   ]
  }
 ],
 "metadata": {
  "kernelspec": {
   "display_name": "Python 3 (ipykernel)",
   "language": "python",
   "name": "python3"
  },
  "language_info": {
   "codemirror_mode": {
    "name": "ipython",
    "version": 3
   },
   "file_extension": ".py",
   "mimetype": "text/x-python",
   "name": "python",
   "nbconvert_exporter": "python",
   "pygments_lexer": "ipython3",
   "version": "3.9.13"
  }
 },
 "nbformat": 4,
 "nbformat_minor": 5
}
